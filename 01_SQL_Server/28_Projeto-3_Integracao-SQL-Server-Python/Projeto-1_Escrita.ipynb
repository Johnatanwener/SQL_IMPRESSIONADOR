{
 "cells": [
  {
   "cell_type": "code",
   "execution_count": 2,
   "id": "148d17b9-36cf-4693-b913-c204c374c6ab",
   "metadata": {},
   "outputs": [
    {
     "name": "stdout",
     "output_type": "stream",
     "text": [
      "Requirement already satisfied: pyodbc in c:\\users\\johna\\anaconda3\\lib\\site-packages (5.0.1)Note: you may need to restart the kernel to use updated packages.\n",
      "\n"
     ]
    }
   ],
   "source": [
    "pip install pyodbc"
   ]
  },
  {
   "cell_type": "code",
   "execution_count": 4,
   "id": "1953a8aa-4369-4078-8d2e-fe8b51602ba9",
   "metadata": {},
   "outputs": [
    {
     "name": "stdout",
     "output_type": "stream",
     "text": [
      "Conexão Bem Sucedida\n"
     ]
    }
   ],
   "source": [
    "# Importando biblioteca pyodbc:\n",
    "\n",
    "import pyodbc\n",
    "\n",
    "# criando dados de conexão:\n",
    "dados_conexao = (\n",
    "    \"Driver={SQL Server};\"\n",
    "    \"Server=LENOVO-JWNS;\"\n",
    "    \"Database=PythonSQL;\"\n",
    ")\n",
    "\n",
    "# Conectando:\n",
    "\n",
    "conexao = pyodbc.connect(dados_conexao)\n",
    "print(\"Conexão Bem Sucedida\")"
   ]
  },
  {
   "cell_type": "code",
   "execution_count": 5,
   "id": "59cee30d-9cdc-4ade-bb94-eb87568319b0",
   "metadata": {},
   "outputs": [],
   "source": [
    "# incluindo registro id = 2\n",
    "\n",
    "cursor = conexao.cursor()\n",
    "\n",
    "comando = \"\"\"INSERT INTO Vendas(id_venda, data_venda, cliente, produto, preco, quantidade) VALUES\n",
    "\t(2, '10/05/2022', 'Bruno', 'Notebook', 3500, 2)\"\"\"\n",
    "\n",
    "cursor.execute(comando)\n",
    "\n",
    "cursor.commit()"
   ]
  },
  {
   "cell_type": "code",
   "execution_count": 6,
   "id": "a0e64a51-714a-4f52-9495-f551a9eb63ef",
   "metadata": {},
   "outputs": [],
   "source": [
    "# incluindo registro id = 3\n",
    "\n",
    "cursor = conexao.cursor()\n",
    "\n",
    "comando = \"\"\"INSERT INTO Vendas(id_venda, data_venda, cliente, produto, preco, quantidade) VALUES\n",
    "\t(3, '13/05/2022', 'Carla', 'Tablet', 1200, 1)\"\"\"\n",
    "\n",
    "cursor.execute(comando)\n",
    "\n",
    "cursor.commit()"
   ]
  },
  {
   "cell_type": "code",
   "execution_count": 8,
   "id": "38e2998e-08fc-4c21-bf55-5d7f8e8db668",
   "metadata": {},
   "outputs": [],
   "source": [
    "# incluindo demais registros\n",
    "\n",
    "cursor = conexao.cursor()\n",
    "\n",
    "id = 5\n",
    "data = \"17/06/2022\"\n",
    "cliente = \"Erika\"\n",
    "produto = \"Celular\"\n",
    "preco = 1500\n",
    "quantidade = 1\n",
    "\n",
    "comando = f\"\"\"INSERT INTO Vendas(id_venda, data_venda, cliente, produto, preco, quantidade) VALUES\n",
    "\t({id}, '{data}', '{cliente}', '{produto}', {preco}, {quantidade})\"\"\"\n",
    "\n",
    "cursor.execute(comando)\n",
    "\n",
    "cursor.commit()"
   ]
  }
 ],
 "metadata": {
  "kernelspec": {
   "display_name": "Python 3 (ipykernel)",
   "language": "python",
   "name": "python3"
  },
  "language_info": {
   "codemirror_mode": {
    "name": "ipython",
    "version": 3
   },
   "file_extension": ".py",
   "mimetype": "text/x-python",
   "name": "python",
   "nbconvert_exporter": "python",
   "pygments_lexer": "ipython3",
   "version": "3.11.7"
  }
 },
 "nbformat": 4,
 "nbformat_minor": 5
}
